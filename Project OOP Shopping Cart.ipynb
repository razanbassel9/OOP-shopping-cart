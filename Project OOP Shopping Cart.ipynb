{
 "cells": [
  {
   "cell_type": "markdown",
   "id": "33e3f0cd",
   "metadata": {},
   "source": [
    "# OOP Project\n",
    "Write a Python program to create a class representing a shopping cart. Include methods for adding and removing items, and calculating the total price.\n",
    "\n",
    "\n",
    "We define a ShoppingCart class representing a shopping cart. \n",
    "It has an attribute called items, which is initially an empty list.\n",
    "The \"add_item()\" method takes an item name and quantity as arguments and adds them as a tuple to the items list. \n",
    "This adds the item to the cart.\n",
    "The \"remove_item()\" method removes the first occurrence of an item with the specified name from the items list. \n",
    "It iterates over the list and checks if the current item's name matches the specified name. \n",
    "If a match is found, it removes the item from the list and breaks out of the loop.\n",
    "The \"calculate_total()\" method calculates and returns the total quantity of all items in the cart. \n",
    "It iterates over the items list and accumulates the quantity of each item.\n",
    "In the example usage section, we create an instance of the ShoppingCart class called cart. \n",
    "We add several items to the cart using the \"add_item()\" method and display the current items in the cart.\n",
    "We calculate and display the total quantity of items using the \"calculate_total()\" method.\n",
    "The \"remove_item()\" method is used to remove an item from the cart and then display the updated items.\n"
   ]
  },
  {
   "cell_type": "code",
   "execution_count": 1,
   "id": "dbd96dd0",
   "metadata": {},
   "outputs": [],
   "source": [
    "class customers():\n",
    "    counter=0\n",
    "    items=[]\n",
    "    def __init__(self,items):\n",
    "        self.items=items\n",
    "        customers.counter+=1\n",
    "    \n",
    "    def show_cart(self):\n",
    "        print(f\"cart items are: {self.items} \")\n",
    "    \n",
    "    def add_item(self,item_id,price):\n",
    "        self.items.insert(-1,(item_id,price))\n",
    "        \n",
    "    def remove_item(self,item_id):\n",
    "        for i in self.items:\n",
    "            if i[0]==item_id:\n",
    "                self.items.remove(i)\n",
    "                break\n",
    "       \n",
    "    def calculate_total(self):\n",
    "        price=0\n",
    "        for i in self.items:\n",
    "            price+=i[1]\n",
    "        print (f\"total cart price is: {price}\")\n",
    "        \n",
    "    \n",
    "    @classmethod\n",
    "    def n_customers(cls):\n",
    "        print(\"numer of customers\", cls.counter)\n",
    "        \n",
    "    @staticmethod\n",
    "    def add_prices(*prices):\n",
    "        p=0\n",
    "        for i in prices:\n",
    "            p+=i\n",
    "        return f\"total price is: {p}\""
   ]
  },
  {
   "cell_type": "code",
   "execution_count": 2,
   "id": "9771d7f5",
   "metadata": {},
   "outputs": [],
   "source": [
    "razan=customers([])\n",
    "rawan=customers([])\n",
    "bassel=customers([])"
   ]
  },
  {
   "cell_type": "code",
   "execution_count": 3,
   "id": "d66482a6",
   "metadata": {},
   "outputs": [
    {
     "name": "stdout",
     "output_type": "stream",
     "text": [
      "numer of customers 3\n"
     ]
    }
   ],
   "source": [
    "customers.n_customers()"
   ]
  },
  {
   "cell_type": "code",
   "execution_count": 4,
   "id": "174c0250",
   "metadata": {},
   "outputs": [],
   "source": [
    "razan.add_item(5,300)\n",
    "razan.add_item(7,350)\n",
    "razan.add_item(8,1000)\n",
    "razan.add_item(1,800)"
   ]
  },
  {
   "cell_type": "code",
   "execution_count": 5,
   "id": "d45b3cb2",
   "metadata": {},
   "outputs": [
    {
     "name": "stdout",
     "output_type": "stream",
     "text": [
      "cart items are: [(7, 350), (8, 1000), (1, 800), (5, 300)] \n"
     ]
    }
   ],
   "source": [
    "razan.show_cart()"
   ]
  },
  {
   "cell_type": "code",
   "execution_count": 6,
   "id": "b083c3ce",
   "metadata": {},
   "outputs": [
    {
     "name": "stdout",
     "output_type": "stream",
     "text": [
      "cart items are: [(7, 350), (1, 800), (5, 300)] \n"
     ]
    }
   ],
   "source": [
    "razan.remove_item(8)\n",
    "razan.show_cart()"
   ]
  },
  {
   "cell_type": "code",
   "execution_count": 9,
   "id": "a8f37509",
   "metadata": {},
   "outputs": [
    {
     "name": "stdout",
     "output_type": "stream",
     "text": [
      "total cart price is: 1450\n"
     ]
    }
   ],
   "source": [
    "razan.calculate_total()"
   ]
  },
  {
   "cell_type": "code",
   "execution_count": 7,
   "id": "22ccb172",
   "metadata": {},
   "outputs": [
    {
     "name": "stdout",
     "output_type": "stream",
     "text": [
      "cart items are: [(7, 350), (1, 800), (5, 300)] \n"
     ]
    }
   ],
   "source": [
    "razan.remove_item(9)\n",
    "razan.show_cart()"
   ]
  },
  {
   "cell_type": "code",
   "execution_count": 8,
   "id": "cb666467",
   "metadata": {},
   "outputs": [
    {
     "data": {
      "text/plain": [
       "'total price is: 535'"
      ]
     },
     "execution_count": 8,
     "metadata": {},
     "output_type": "execute_result"
    }
   ],
   "source": [
    "rawan.add_prices(56,79,400)"
   ]
  }
 ],
 "metadata": {
  "kernelspec": {
   "display_name": "Python 3 (ipykernel)",
   "language": "python",
   "name": "python3"
  },
  "language_info": {
   "codemirror_mode": {
    "name": "ipython",
    "version": 3
   },
   "file_extension": ".py",
   "mimetype": "text/x-python",
   "name": "python",
   "nbconvert_exporter": "python",
   "pygments_lexer": "ipython3",
   "version": "3.9.13"
  }
 },
 "nbformat": 4,
 "nbformat_minor": 5
}
